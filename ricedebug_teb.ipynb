{
 "cells": [
  {
   "cell_type": "code",
   "execution_count": 1,
   "metadata": {
    "scrolled": true
   },
   "outputs": [
    {
     "name": "stdout",
     "output_type": "stream",
     "text": [
      "The rospy package is not found in your $PYTHONPATH. Subscribe and publish are not going to work.\n",
      "Do you need to activate your ROS environment?\n"
     ]
    }
   ],
   "source": [
    "from jupyros import ros3d"
   ]
  },
  {
   "cell_type": "code",
   "execution_count": 2,
   "metadata": {},
   "outputs": [],
   "source": [
    "url = \"ws://192.168.43.201:9090\"# change this to the ip of robot\n",
    "costmap_topic = \"/nav/move_base/global_costmap/costmap\"\n",
    "lidar_topic = \"/lidar/scan\"\n",
    "goal_topic = \"/nav/move_base/current_goal\"\n",
    "teb_marker_topic = \"/nav/move_base/TebLocalPlannerROS/teb_markers\"\n",
    "teb_pose_array_topic = \"/nav/move_base/TebLocalPlannerROS/teb_poses\"\n",
    "pcd_topic = \"/camera/output\""
   ]
  },
  {
   "cell_type": "code",
   "execution_count": 3,
   "metadata": {},
   "outputs": [],
   "source": [
    "rc = ros3d.ROSConnection(url=url)\n",
    "tf_client = ros3d.TFClient(ros=rc, fixed_frame='base_link')"
   ]
  },
  {
   "cell_type": "code",
   "execution_count": 4,
   "metadata": {},
   "outputs": [],
   "source": [
    "costmap = ros3d.OccupancyGrid(ros=rc, tf_client=tf_client, topic=costmap_topic, continuous=True, opacity=0.8)"
   ]
  },
  {
   "cell_type": "code",
   "execution_count": 5,
   "metadata": {},
   "outputs": [],
   "source": [
    "lidar = ros3d.LaserScan(topic=lidar_topic, ros=rc, tf_client=tf_client, static_color=\"blue\", point_size = 0.1)"
   ]
  },
  {
   "cell_type": "code",
   "execution_count": 6,
   "metadata": {},
   "outputs": [],
   "source": [
    "pcd = ros3d.PointCloud(ros=rc, tf_client=tf_client, topic=pcd_topic, point_size=0.1, static_color=\"magenta\")"
   ]
  },
  {
   "cell_type": "code",
   "execution_count": 7,
   "metadata": {},
   "outputs": [],
   "source": [
    "goal = ros3d.Pose(ros=rc, tf_client=tf_client, topic=goal_topic, color=\"red\")"
   ]
  },
  {
   "cell_type": "code",
   "execution_count": 8,
   "metadata": {},
   "outputs": [],
   "source": [
    "#teb_marker = ros3d.Marker(ros=rc, tf_client=tf_client, topic=teb_marker_topic,lifetime=0.1)"
   ]
  },
  {
   "cell_type": "code",
   "execution_count": 9,
   "metadata": {},
   "outputs": [],
   "source": [
    "teb_pose = ros3d.PoseArray(ros=rc, tf_client=tf_client, topic=teb_pose_array_topic, color=\"green\")"
   ]
  },
  {
   "cell_type": "code",
   "execution_count": 10,
   "metadata": {
    "scrolled": false
   },
   "outputs": [
    {
     "data": {
      "application/vnd.jupyter.widget-view+json": {
       "model_id": "abd1c88624cb4ce48acc8c3a50078242",
       "version_major": 2,
       "version_minor": 0
      },
      "text/plain": [
       "Viewer(layout=Layout(height='500px'), objects=[LaserScan(point_size=0.1, ros=ROSConnection(url='ws://192.168.4…"
      ]
     },
     "metadata": {},
     "output_type": "display_data"
    }
   ],
   "source": [
    "v = ros3d.Viewer(objects = [lidar, costmap, goal, teb_pose, pcd])\n",
    "v.layout.height= \"500px\"\n",
    "display(v)"
   ]
  }
 ],
 "metadata": {
  "kernelspec": {
   "display_name": "Python 3",
   "language": "python",
   "name": "python3"
  },
  "language_info": {
   "codemirror_mode": {
    "name": "ipython",
    "version": 3
   },
   "file_extension": ".py",
   "mimetype": "text/x-python",
   "name": "python",
   "nbconvert_exporter": "python",
   "pygments_lexer": "ipython3",
   "version": "3.8.6"
  }
 },
 "nbformat": 4,
 "nbformat_minor": 2
}
