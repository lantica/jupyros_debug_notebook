{
 "cells": [
  {
   "cell_type": "code",
   "execution_count": 1,
   "metadata": {},
   "outputs": [
    {
     "name": "stdout",
     "output_type": "stream",
     "text": [
      "The rospy package is not found in your $PYTHONPATH. Subscribe and publish are not going to work.\n",
      "Do you need to activate your ROS environment?\n"
     ]
    }
   ],
   "source": [
    "from jupyros import ros3d"
   ]
  },
  {
   "cell_type": "code",
   "execution_count": 2,
   "metadata": {},
   "outputs": [],
   "source": [
    "url = \"ws://192.168.43.200:9090\"# change this to the ip of robot\n",
    "costmap_topic = \"/nav/move_base_des/local_costmap/costmap\"\n",
    "lidar_topic = \"/lidar/scan\"\n",
    "local_path_topic = \"/nav/move_base_des/DWBLocalPlanner/local_plan\"\n",
    "goal_topic = \"/nav/move_base_des/current_goal\"\n",
    "teb_marker_topic = \"/nav/move_base_des/TebLocalPlannerROS/teb_markers\"\n",
    "teb_pose_array_topic = \"/nav/move_base_des/TebLocalPlannerROS/teb_poses\""
   ]
  },
  {
   "cell_type": "code",
   "execution_count": 3,
   "metadata": {},
   "outputs": [],
   "source": [
    "rc = ros3d.ROSConnection(url=url)\n",
    "tf_client = ros3d.TFClient(ros=rc, fixed_frame='base_link')"
   ]
  },
  {
   "cell_type": "code",
   "execution_count": 4,
   "metadata": {},
   "outputs": [],
   "source": [
    "costmap = ros3d.OccupancyGrid(ros=rc, tf_client=tf_client, topic=costmap_topic, continuous=True, opacity=0.8)"
   ]
  },
  {
   "cell_type": "code",
   "execution_count": 5,
   "metadata": {},
   "outputs": [],
   "source": [
    "lidar = ros3d.LaserScan(topic=lidar_topic, ros=rc, tf_client=tf_client, static_color=\"blue\", point_size = 0.1)"
   ]
  },
  {
   "cell_type": "code",
   "execution_count": 6,
   "metadata": {},
   "outputs": [],
   "source": [
    "local_path = ros3d.Path(ros = rc, tf_client=tf_client, color=\"green\", topic=local_path_topic)"
   ]
  },
  {
   "cell_type": "code",
   "execution_count": 7,
   "metadata": {},
   "outputs": [],
   "source": [
    "goal = ros3d.Pose(ros=rc, tf_client=tf_client, topic=goal_topic, color=\"red\")"
   ]
  },
  {
   "cell_type": "code",
   "execution_count": 8,
   "metadata": {},
   "outputs": [],
   "source": [
    "teb_marker = ros3d.Marker(ros=rc, tf_client=tf_client, topic=teb_marker_topic,lifetime=0.1)"
   ]
  },
  {
   "cell_type": "code",
   "execution_count": 9,
   "metadata": {},
   "outputs": [],
   "source": [
    "teb_pose = ros3d.PoseArray(ros=rc, tf_client=tf_client, topic=teb_pose_array_topic, color=\"green\")"
   ]
  },
  {
   "cell_type": "code",
   "execution_count": 10,
   "metadata": {},
   "outputs": [
    {
     "data": {
      "application/vnd.jupyter.widget-view+json": {
       "model_id": "053c795f51e84b82919c09153e822c4e",
       "version_major": 2,
       "version_minor": 0
      },
      "text/plain": [
       "Viewer(layout=Layout(height='500px'), objects=[LaserScan(point_size=0.1, ros=ROSConnection(url='ws://192.168.4…"
      ]
     },
     "metadata": {},
     "output_type": "display_data"
    }
   ],
   "source": [
    "v = ros3d.Viewer(objects = [lidar, goal, teb_marker, teb_pose])\n",
    "v.layout.height= \"500px\"\n",
    "display(v)"
   ]
  }
 ],
 "metadata": {
  "kernelspec": {
   "display_name": "Python 3",
   "language": "python",
   "name": "python3"
  },
  "language_info": {
   "codemirror_mode": {
    "name": "ipython",
    "version": 3
   },
   "file_extension": ".py",
   "mimetype": "text/x-python",
   "name": "python",
   "nbconvert_exporter": "python",
   "pygments_lexer": "ipython3",
   "version": "3.7.4"
  }
 },
 "nbformat": 4,
 "nbformat_minor": 2
}
